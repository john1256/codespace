{
 "cells": [
  {
   "cell_type": "code",
   "execution_count": 7,
   "metadata": {},
   "outputs": [],
   "source": [
    "import numpy as np\n",
    "from scipy.stats import linregress\n",
    "import matplotlib.pyplot as plt\n",
    "from scipy import stats\n",
    "import pandas as pd"
   ]
  },
  {
   "cell_type": "code",
   "execution_count": 3,
   "metadata": {},
   "outputs": [
    {
     "name": "stdout",
     "output_type": "stream",
     "text": [
      "38.99000000000001 2.055\n"
     ]
    }
   ],
   "source": [
    "xdata = np.array([2,4,6,8,10])\n",
    "ydata = np.array([42.0, 48.4, 51.3, 56.3, 58.6])\n",
    "\n",
    "result = linregress(xdata,ydata)\n",
    "A = result.intercept\n",
    "B = result.slope\n",
    "\n",
    "print(A,B)"
   ]
  },
  {
   "cell_type": "code",
   "execution_count": 5,
   "metadata": {},
   "outputs": [
    {
     "name": "stderr",
     "output_type": "stream",
     "text": [
      "C:\\Users\\john0\\AppData\\Local\\Temp\\ipykernel_1548\\150468354.py:9: RuntimeWarning: invalid value encountered in sqrt\n",
      "  Sigma_T = np.sqrt(1/len(xdata)-2)*np.sum(np.power((ydata - (A+B*xdata)),2))\n",
      "C:\\Users\\john0\\anaconda3\\lib\\site-packages\\numpy\\core\\_methods.py:44: RuntimeWarning: invalid value encountered in reduce\n",
      "  return umr_minimum(a, axis, None, out, keepdims, initial, where)\n",
      "C:\\Users\\john0\\anaconda3\\lib\\site-packages\\numpy\\core\\_methods.py:40: RuntimeWarning: invalid value encountered in reduce\n",
      "  return umr_maximum(a, axis, None, out, keepdims, initial, where)\n"
     ]
    },
    {
     "data": {
      "text/plain": [
       "<matplotlib.legend.Legend at 0x282d4cfe6d0>"
      ]
     },
     "execution_count": 5,
     "metadata": {},
     "output_type": "execute_result"
    },
    {
     "data": {
      "image/png": "[encoded data removed]",
      "text/plain": [
       "<Figure size 432x288 with 1 Axes>"
      ]
     },
     "metadata": {
      "needs_background": "light"
     },
     "output_type": "display_data"
    }
   ],
   "source": [
    "xdata = np.array([65, 75, 85, 95, 105])\n",
    "ydata = np.array([-20,17,  42, 94, 127])\n",
    "\n",
    "result = linregress(xdata, ydata)\n",
    "A = result.intercept\n",
    "B = result.slope\n",
    "Sigma_A = result.intercept_stderr\n",
    "Sigma_B = result.stderr\n",
    "Sigma_T = np.sqrt(1/len(xdata)-2)*np.sum(np.power((ydata - (A+B*xdata)),2))\n",
    "\n",
    "plt.title('Result of Linear Least Square Fit')\n",
    "plt.errorbar(xdata, ydata, yerr = Sigma_T, marker='s', markersize=3, capsize=3, ls='none')\n",
    "xfit = np.linspace(0, xdata.max(), 100)\n",
    "yfit = A+B*xfit\n",
    "plt.plot(xfit, yfit,'r--', label = f'y={np.round(A,-1):.0f} ($\\pm$ {np.round(Sigma_A, -1)}) + {B:.1f}($\\pm$ {Sigma_B:.1f})*x')\n",
    "plt.legend()"
   ]
  },
  {
   "cell_type": "code",
   "execution_count": 8,
   "metadata": {},
   "outputs": [
    {
     "name": "stdout",
     "output_type": "stream",
     "text": [
      "scipy.stats.inregress를 이용한 상관계수 r=0.995\n",
      "scipy.stats.pearsonr를 이용한 상관계수 r = 0.995\n",
      "numpy corrcoef를 이용한 상관계수 r = 0.995\n",
      "Pandas를 이용한 상관계수 r = 0.995\n"
     ]
    }
   ],
   "source": [
    "r1 = result.rvalue\n",
    "print(f'scipy.stats.inregress를 이용한 상관계수 r={r1:.3f}')\n",
    "\n",
    "r2 = stats.pearsonr(xdata, ydata)[0]\n",
    "print(f'scipy.stats.pearsonr를 이용한 상관계수 r = {r2:.3f}')\n",
    "\n",
    "r3 = np.corrcoef(xdata, ydata)[0,1]\n",
    "print(f'numpy corrcoef를 이용한 상관계수 r = {r3:.3f}')\n",
    "\n",
    "df1 = pd.DataFrame(xdata)\n",
    "df2 = pd.DataFrame(ydata)\n",
    "r4 = df2.corrwith(df1)[0]\n",
    "print(f'Pandas를 이용한 상관계수 r = {r4:.3f}')"
   ]
  },
  {
   "cell_type": "code",
   "execution_count": null,
   "metadata": {},
   "outputs": [],
   "source": []
  }
 ],
 "metadata": {
  "kernelspec": {
   "display_name": "Python 3 (ipykernel)",
   "language": "python",
   "name": "python3"
  },
  "language_info": {
   "codemirror_mode": {
    "name": "ipython",
    "version": 3
   },
   "file_extension": ".py",
   "mimetype": "text/x-python",
   "name": "python",
   "nbconvert_exporter": "python",
   "pygments_lexer": "ipython3",
   "version": "3.9.12"
  },
  "orig_nbformat": 4
 },
 "nbformat": 4,
 "nbformat_minor": 2
}
