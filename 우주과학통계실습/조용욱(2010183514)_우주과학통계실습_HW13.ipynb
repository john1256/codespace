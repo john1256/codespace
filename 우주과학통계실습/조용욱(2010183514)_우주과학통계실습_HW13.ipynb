{
 "cells": [
  {
   "attachments": {},
   "cell_type": "markdown",
   "metadata": {},
   "source": [
    "HW12"
   ]
  },
  {
   "cell_type": "code",
   "execution_count": null,
   "metadata": {},
   "outputs": [],
   "source": [
    "from scipy.optimize import curve_fit\n",
    "from scipy.stats import linregress\n",
    "import numpy as np\n",
    "import pandas as pd\n",
    "import matplotlib.pyplot as plt"
   ]
  },
  {
   "cell_type": "code",
   "execution_count": null,
   "metadata": {},
   "outputs": [],
   "source": [
    "data = pd.read_csv('3_4_Thermocouple Calibration_Data.csv', delimiter=',')\n",
    "xdata = data['x (degree)']; ydata = data['y (V)']; sigma = data['sigma (V)']\n",
    "result = linregress(xdata,ydata)\n",
    "slope = result[0]; intercept = result[1]; "
   ]
  },
  {
   "cell_type": "code",
   "execution_count": null,
   "metadata": {},
   "outputs": [],
   "source": [
    "def func(x,a,b,c):\n",
    "    return a*x**2+b*x+c\n",
    "\n",
    "popt, pcov = curve_fit(func, xdata, ydata, absolute_sigma=True, sigma= sigma, p0 = [0,slope, intercept])\n",
    "err = np.sqrt(np.diag(pcov))\n",
    "yval = func(xdata, popt[0], popt[1], popt[2])\n",
    "error = err[0]*xdata**2+err[1]*xdata+err[2]\n",
    "\n",
    "\n"
   ]
  },
  {
   "cell_type": "code",
   "execution_count": null,
   "metadata": {},
   "outputs": [],
   "source": [
    "plt.errorbar(xdata, ydata,yerr=error, label = \"3_4_Thermocouple Calibration_Data.csv\")\n",
    "plt.plot(xdata, yval, label = 'fitting')\n",
    "plt.legend()\n",
    "plt.text(60,0.5, f'y = ({popt[0]:.2g}$\\pm${err[0]:.2g}$)T^2$ + ({popt[1]:.2g}$\\pm${err[1]:.2g})T + {popt[2]:.2g}$\\pm${err[2]:.2g}')\n",
    "plt.text(60,0.3, f'start function: y = {slope:.2g}T+{intercept:.2g}')"
   ]
  },
  {
   "attachments": {},
   "cell_type": "markdown",
   "metadata": {},
   "source": [
    "HW13"
   ]
  },
  {
   "cell_type": "code",
   "execution_count": null,
   "metadata": {},
   "outputs": [],
   "source": [
    "import pandas as pd\n",
    "import numpy as np\n",
    "import matplotlib.pyplot as plt\n",
    "from numpy.polynomial import legendre\n",
    "df = pd.read_csv('3_6_Legendre Polynomial Fit_data.csv')\n",
    "df = df.iloc[0:17]\n",
    "df['cos_Theta'] = np.cos(np.deg2rad(df['Theta']))\n",
    "c,stats = legendre.legfit(df['cos_Theta'], df['Counts'],[0,2,4], full=True)\n",
    "\n",
    "plt.title('Fitting Legendre Polynomials')\n",
    "plt.xlabel('Degree')\n",
    "plt.ylabel('Counts')\n",
    "\n",
    "x = df['Theta']\n",
    "y_measured = df['Counts']\n",
    "plt.scatter(x,y_measured, label = 'Measured')\n",
    "y_fitted = legendre.Legendre(c)(df['cos_Theta'])\n",
    "plt.scatter(x,y_fitted, label = 'Fitted')\n",
    "x_fit = np.linspace(0,180,181)\n",
    "y_fit = legendre.Legendre(c)(np.cos(np.deg2rad(x_fit)))\n",
    "plt.plot(x_fit, y_fit, 'r--')\n",
    "\n",
    "plt.grid()\n",
    "plt.legend()\n",
    "plt.show()"
   ]
  },
  {
   "cell_type": "code",
   "execution_count": null,
   "metadata": {},
   "outputs": [],
   "source": [
    "sigma = df['sigma']"
   ]
  },
  {
   "cell_type": "code",
   "execution_count": null,
   "metadata": {},
   "outputs": [],
   "source": [
    "print(c)\n"
   ]
  },
  {
   "attachments": {},
   "cell_type": "markdown",
   "metadata": {},
   "source": [
    "1. 두 결과가 서로 다른 이유를 유추해 보시오.\n",
    "\n",
    "Legendre polynomial의 1차항이 엑셀의 경우 907.1746679이었고, 파이썬의 경우 907.35130839인 것을 알 수 있다. 만약 1차항의 계수가 같았다면 르장드르 함수는 orthogonal하기 때문에 2차, 3차항의 계수가 비슷하게 나왔을 것 같은데 1차항에서 작은 오차가 있어 2차, 3차항의 차이를 낸 것 같다."
   ]
  },
  {
   "attachments": {},
   "cell_type": "markdown",
   "metadata": {},
   "source": [
    "② 유추한 결과를 바탕으로 수정된 python code를 작성하고 spreadsheet과의 결과와 비교하여 보시오."
   ]
  },
  {
   "cell_type": "code",
   "execution_count": null,
   "metadata": {},
   "outputs": [],
   "source": [
    "def func(x,a,b,c):\n",
    "    leg1 = 1\n",
    "    leg2 = 1/2*(3*x**2-1)\n",
    "    leg3 = 1/8*(35*x**4-30*x**2+3)\n",
    "    return a*leg1+b*leg2+c*leg3\n",
    "\n",
    "xdata = df['x']\n",
    "popt, pcov = curve_fit(func, xdata, y_measured,sigma = sigma, p0 = [907,260,193])\n",
    "\n",
    "plt.title('Fitting Legendre Polynomials with curvefit')\n",
    "plt.xlabel('Degree')\n",
    "plt.ylabel('Counts')\n",
    "plt.scatter(x,y_measured, label = 'Measured')\n",
    "y_fitted_curvefit = func(xdata, popt[0], popt[1], popt[2])\n",
    "\n",
    "plt.scatter(x, y_fitted_curvefit, label = 'Fitted')\n",
    "y_fit_curvefit = func(np.cos(np.deg2rad(x_fit)), popt[0], popt[1], popt[2])\n",
    "plt.plot(x_fit, y_fit, 'r--')\n",
    "plt.legend()\n",
    "print(f'계수는 {popt[0]}, {popt[1]}, {popt[2]}이다.')"
   ]
  },
  {
   "cell_type": "code",
   "execution_count": null,
   "metadata": {},
   "outputs": [],
   "source": []
  }
 ],
 "metadata": {
  "kernelspec": {
   "display_name": "Python 3 (ipykernel)",
   "language": "python",
   "name": "python3"
  },
  "language_info": {
   "codemirror_mode": {
    "name": "ipython",
    "version": 3
   },
   "file_extension": ".py",
   "mimetype": "text/x-python",
   "name": "python",
   "nbconvert_exporter": "python",
   "pygments_lexer": "ipython3",
   "version": "3.10.9"
  }
 },
 "nbformat": 4,
 "nbformat_minor": 2
}
