{
 "cells": [
  {
   "cell_type": "code",
   "execution_count": 38,
   "metadata": {},
   "outputs": [],
   "source": [
    "    \"\"\"\n",
    "    1. Pandas를 이용하여 두개의 Data set을 읽어 들인 후 “제작국가” \n",
    "    column을 추가하고 한국영화에는 “한국”, \n",
    "    외국영화에는 “외국”이라고 표시하시오.\n",
    "    \"\"\"\n",
    "    \n",
    "import pandas as pd\n",
    "import numpy as np\n",
    "import matplotlib.pyplot as plt\n",
    "import datetime as dt\n",
    "\n",
    "df2 = pd.read_csv(r'역대흥행1000_영화\\역대흥행500_외국영화.csv')\n",
    "df = pd.read_csv(r'역대흥행1000_영화\\역대흥행500_한국영화.csv')\n",
    "\n",
    "df['제작국가']='한국'\n",
    "df2['제작국가']='외국'"
   ]
  },
  {
   "cell_type": "code",
   "execution_count": 7,
   "metadata": {},
   "outputs": [
    {
     "data": {
      "text/html": [
       "<div>\n",
       "<style scoped>\n",
       "    .dataframe tbody tr th:only-of-type {\n",
       "        vertical-align: middle;\n",
       "    }\n",
       "\n",
       "    .dataframe tbody tr th {\n",
       "        vertical-align: top;\n",
       "    }\n",
       "\n",
       "    .dataframe thead th {\n",
       "        text-align: right;\n",
       "    }\n",
       "</style>\n",
       "<table border=\"1\" class=\"dataframe\">\n",
       "  <thead>\n",
       "    <tr style=\"text-align: right;\">\n",
       "      <th></th>\n",
       "      <th>순위</th>\n",
       "      <th>영화명</th>\n",
       "      <th>개봉일</th>\n",
       "      <th>매출액</th>\n",
       "      <th>관객수</th>\n",
       "      <th>스크린수</th>\n",
       "      <th>제작국가</th>\n",
       "    </tr>\n",
       "  </thead>\n",
       "  <tbody>\n",
       "    <tr>\n",
       "      <th>0</th>\n",
       "      <td>1</td>\n",
       "      <td>명량</td>\n",
       "      <td>2014-07-30</td>\n",
       "      <td>135,748,398,910</td>\n",
       "      <td>17,613,682</td>\n",
       "      <td>1,587</td>\n",
       "      <td>한국</td>\n",
       "    </tr>\n",
       "    <tr>\n",
       "      <th>1</th>\n",
       "      <td>2</td>\n",
       "      <td>극한직업</td>\n",
       "      <td>2019-01-23</td>\n",
       "      <td>139,647,979,516</td>\n",
       "      <td>16,264,944</td>\n",
       "      <td>1,978</td>\n",
       "      <td>한국</td>\n",
       "    </tr>\n",
       "    <tr>\n",
       "      <th>2</th>\n",
       "      <td>3</td>\n",
       "      <td>신과함께-죄와 벌</td>\n",
       "      <td>2017-12-20</td>\n",
       "      <td>115,698,654,137</td>\n",
       "      <td>14,410,754</td>\n",
       "      <td>1,912</td>\n",
       "      <td>한국</td>\n",
       "    </tr>\n",
       "    <tr>\n",
       "      <th>3</th>\n",
       "      <td>4</td>\n",
       "      <td>국제시장</td>\n",
       "      <td>2014-12-17</td>\n",
       "      <td>110,913,469,630</td>\n",
       "      <td>14,257,115</td>\n",
       "      <td>966</td>\n",
       "      <td>한국</td>\n",
       "    </tr>\n",
       "    <tr>\n",
       "      <th>4</th>\n",
       "      <td>5</td>\n",
       "      <td>베테랑</td>\n",
       "      <td>2015-08-05</td>\n",
       "      <td>105,168,155,250</td>\n",
       "      <td>13,414,009</td>\n",
       "      <td>1,064</td>\n",
       "      <td>한국</td>\n",
       "    </tr>\n",
       "    <tr>\n",
       "      <th>...</th>\n",
       "      <td>...</td>\n",
       "      <td>...</td>\n",
       "      <td>...</td>\n",
       "      <td>...</td>\n",
       "      <td>...</td>\n",
       "      <td>...</td>\n",
       "      <td>...</td>\n",
       "    </tr>\n",
       "    <tr>\n",
       "      <th>495</th>\n",
       "      <td>496</td>\n",
       "      <td>시체가 돌아왔다</td>\n",
       "      <td>2012-03-29</td>\n",
       "      <td>7,360,631,000</td>\n",
       "      <td>986,923</td>\n",
       "      <td>435</td>\n",
       "      <td>한국</td>\n",
       "    </tr>\n",
       "    <tr>\n",
       "      <th>496</th>\n",
       "      <td>497</td>\n",
       "      <td>원더풀 라디오</td>\n",
       "      <td>2012-01-05</td>\n",
       "      <td>7,255,598,000</td>\n",
       "      <td>986,287</td>\n",
       "      <td>474</td>\n",
       "      <td>한국</td>\n",
       "    </tr>\n",
       "    <tr>\n",
       "      <th>497</th>\n",
       "      <td>498</td>\n",
       "      <td>전국노래자랑</td>\n",
       "      <td>2013-05-01</td>\n",
       "      <td>6,685,476,000</td>\n",
       "      <td>977,873</td>\n",
       "      <td>581</td>\n",
       "      <td>한국</td>\n",
       "    </tr>\n",
       "    <tr>\n",
       "      <th>498</th>\n",
       "      <td>499</td>\n",
       "      <td>내 사랑</td>\n",
       "      <td>2007-12-18</td>\n",
       "      <td>432,940,833</td>\n",
       "      <td>977,401</td>\n",
       "      <td>56</td>\n",
       "      <td>한국</td>\n",
       "    </tr>\n",
       "    <tr>\n",
       "      <th>499</th>\n",
       "      <td>500</td>\n",
       "      <td>돈 크라이 마미</td>\n",
       "      <td>2012-11-22</td>\n",
       "      <td>6,808,882,099</td>\n",
       "      <td>975,462</td>\n",
       "      <td>444</td>\n",
       "      <td>한국</td>\n",
       "    </tr>\n",
       "  </tbody>\n",
       "</table>\n",
       "<p>500 rows × 7 columns</p>\n",
       "</div>"
      ],
      "text/plain": [
       "      순위        영화명         개봉일              매출액         관객수   스크린수 제작국가\n",
       "0      1         명량  2014-07-30  135,748,398,910  17,613,682  1,587   한국\n",
       "1      2       극한직업  2019-01-23  139,647,979,516  16,264,944  1,978   한국\n",
       "2      3  신과함께-죄와 벌  2017-12-20  115,698,654,137  14,410,754  1,912   한국\n",
       "3      4       국제시장  2014-12-17  110,913,469,630  14,257,115    966   한국\n",
       "4      5        베테랑  2015-08-05  105,168,155,250  13,414,009  1,064   한국\n",
       "..   ...        ...         ...              ...         ...    ...  ...\n",
       "495  496   시체가 돌아왔다  2012-03-29    7,360,631,000     986,923    435   한국\n",
       "496  497    원더풀 라디오  2012-01-05    7,255,598,000     986,287    474   한국\n",
       "497  498     전국노래자랑  2013-05-01    6,685,476,000     977,873    581   한국\n",
       "498  499       내 사랑  2007-12-18      432,940,833     977,401     56   한국\n",
       "499  500   돈 크라이 마미  2012-11-22    6,808,882,099     975,462    444   한국\n",
       "\n",
       "[500 rows x 7 columns]"
      ]
     },
     "execution_count": 7,
     "metadata": {},
     "output_type": "execute_result"
    }
   ],
   "source": [
    "df"
   ]
  },
  {
   "cell_type": "code",
   "execution_count": 39,
   "metadata": {},
   "outputs": [],
   "source": [
    "    \"\"\" 2. 이중 한국영화의 자료에는 숫자가 1000단위만다 “,”가 있어 외국영화와 다른 형식으로 표현되어 있습니다. \n",
    "    한국영화의 DataFrame에서 정수를 표시하는 “,” 를 삭제하시오.\n",
    "    또한 외국영화 자료에는 “Not a Number”를 나타내는 nan 이 있는데 이를 숫자 0으로 바꾸시오.\n",
    "    (참고: Python String의 replace method를 각 column에 적용해 보는 것을 고려해 볼 수 있다\n",
    "    \"\"\"\n",
    "    \n",
    "\n",
    "df['관객수'] = df['관객수'].str.replace(',','')\n",
    "df['스크린수'] = df['스크린수'].str.replace(',','')\n",
    "df['매출액'] = df['매출액'].str.replace(',','')\n",
    "df['매출액'] = df['매출액'].replace(np.NaN,0)\n",
    "df2['관객수'] = df2['관객수'].str.replace(',','')\n",
    "df2['관객수']= df2['관객수'].replace(np.NaN,0)\n",
    "df2['스크린수']= df2['스크린수'].replace(np.NaN,0)\n"
   ]
  },
  {
   "cell_type": "code",
   "execution_count": 44,
   "metadata": {},
   "outputs": [
    {
     "data": {
      "text/plain": [
       "순위               int64\n",
       "영화명             object\n",
       "개봉일     datetime64[ns]\n",
       "매출액            float64\n",
       "관객수            float64\n",
       "스크린수           float64\n",
       "제작국가            object\n",
       "dtype: object"
      ]
     },
     "execution_count": 44,
     "metadata": {},
     "output_type": "execute_result"
    }
   ],
   "source": [
    "df['관객수'] = df.loc[:,'관객수'].astype('float')\n",
    "df['스크린수'] = df.loc[:,'스크린수'].astype('float')\n",
    "df['매출액'] = df.loc[:,'매출액'].astype('float')\n",
    "df['개봉일'] = df.loc[:,'개봉일'].astype('datetime64')\n"
   ]
  },
  {
   "cell_type": "code",
   "execution_count": 45,
   "metadata": {},
   "outputs": [],
   "source": [
    "    \"\"\"3. df. types와 같은 method 를 통해 각 column의 data type 을 출력하고 숫자로 표시되어야 할 “매출액”, “관객수”, “스크린수”는 “float64”로,  “개봉일”은 시간을 나타내는  “datetime64” 형식으로 변경 하시오 (참고: df.astype method등으로 자료의 형식을 변경할 수 있다)\n",
    "    \"\"\"\n",
    "\n",
    "df['관객수'] = df.loc[:,'관객수'].astype('float')\n",
    "df['스크린수'] = df.loc[:,'스크린수'].astype('float')\n",
    "df['매출액'] = df.loc[:,'매출액'].astype('float')\n",
    "df['개봉일'] = df.loc[:,'개봉일'].astype('datetime64')\n",
    "df2['관객수'] = df2.loc[:,'관객수'].astype('float')\n",
    "df2['스크린수'] = df2.loc[:,'스크린수'].astype('float')\n",
    "df2['매출액'] = df2.loc[:,'매출액'].astype('float')\n",
    "df2['개봉일'] = df2.loc[:,'개봉일'].astype('datetime64')\n"
   ]
  },
  {
   "cell_type": "code",
   "execution_count": 46,
   "metadata": {},
   "outputs": [
    {
     "name": "stdout",
     "output_type": "stream",
     "text": [
      "유효한 자료를 보유한 영화는 707개이다\n"
     ]
    }
   ],
   "source": [
    "    \"\"\"4. 이후 2개의 DataFrame 을 합치고 (pd.concat등 사용), “자료의 값이  0 인 곳은  nan으로 대체하고 이어서 df.dropna등을 사용하여 dataframe 에서 제거하시오. 유효한 자료를 보유한 영화는 총 몇 개가 남았는지 출력하시오.\n",
    "    \"\"\"\n",
    "    \n",
    "df3 = pd.concat([df,df2])\n",
    "df3.replace(0,np.nan,True)\n",
    "df3_nonan = df3.dropna(axis=0)\n",
    "n_movies = df3_nonan['순위'].size\n",
    "print(f'유효한 자료를 보유한 영화는 {n_movies}개이다')\n"
   ]
  },
  {
   "cell_type": "code",
   "execution_count": 60,
   "metadata": {},
   "outputs": [
    {
     "name": "stderr",
     "output_type": "stream",
     "text": [
      "C:\\Users\\USer\\AppData\\Local\\Temp/ipykernel_2632/3505528452.py:4: SettingWithCopyWarning: \n",
      "A value is trying to be set on a copy of a slice from a DataFrame.\n",
      "Try using .loc[row_indexer,col_indexer] = value instead\n",
      "\n",
      "See the caveats in the documentation: https://pandas.pydata.org/pandas-docs/stable/user_guide/indexing.html#returning-a-view-versus-a-copy\n",
      "  df3_nonan['스크린당관객수'] = df3_nonan.loc[:,'관객수'] / df3_nonan.loc[:,'스크린수']\n"
     ]
    }
   ],
   "source": [
    "    \"\"\"  5. 위에서 합쳐진 DataFrame을 이용하여 “상영관당관객수” 열(column)을 만들고 각 영화마다 관객수를 상영관수로 나누어 그 값을 계산하시오.\n",
    "    \"\"\"\n",
    "\n",
    "df3_nonan['스크린당관객수'] = df3_nonan.loc[:,'관객수'] / df3_nonan.loc[:,'스크린수']\n"
   ]
  },
  {
   "cell_type": "code",
   "execution_count": 74,
   "metadata": {},
   "outputs": [
    {
     "name": "stdout",
     "output_type": "stream",
     "text": [
      "매출액의 상위 10개 영화\n",
      "1          극한직업\n",
      "0            명량\n",
      "9         범죄도시2\n",
      "2           아바타\n",
      "0    어벤져스: 엔드게임\n",
      "2     신과함께-죄와 벌\n",
      "1        겨울왕국 2\n",
      "3          국제시장\n",
      "3           알라딘\n",
      "4           베테랑\n",
      "Name: 영화명, dtype: object\n",
      "관객수의 상위 10개 영화\n",
      "0            명량\n",
      "1          극한직업\n",
      "2     신과함께-죄와 벌\n",
      "3          국제시장\n",
      "0    어벤져스: 엔드게임\n",
      "1        겨울왕국 2\n",
      "2           아바타\n",
      "4           베테랑\n",
      "6           도둑들\n",
      "7       7번방의 선물\n",
      "Name: 영화명, dtype: object\n",
      "스크린당관객수의 상위 10개 영화\n",
      "158               워낭소리\n",
      "246           색즉시공 시즌2\n",
      "80     님아, 그 강을 건너지 마오\n",
      "29               과속스캔들\n",
      "498               내 사랑\n",
      "7              7번방의 선물\n",
      "89              비긴 어게인\n",
      "35                  써니\n",
      "16                 해운대\n",
      "10         광해, 왕이 된 남자\n",
      "Name: 영화명, dtype: object\n"
     ]
    }
   ],
   "source": [
    "    \"\"\"  6. 합쳐진 DataFrame을 이용하여 “매출액”, “관객수”,  “스크린당(상영관당)관객수”로 정렬한 후 각 기준 1~10위의 영화를 출력하시오.\n",
    "    \"\"\"\n",
    "    \n",
    "df_earn = df3_nonan.sort_values('매출액', ascending=False)\n",
    "df_aud = df3_nonan.sort_values('관객수',ascending=False)\n",
    "df_audbyscreen = df3_nonan.sort_values('스크린당관객수',ascending=False)\n",
    "print('매출액의 상위 10개 영화')\n",
    "print(df_earn.iloc[:10,1])\n",
    "print('관객수의 상위 10개 영화')\n",
    "print(df_aud.iloc[:10, 1])\n",
    "print('스크린당관객수의 상위 10개 영화')\n",
    "print(df_audbyscreen.iloc[:10,1])"
   ]
  },
  {
   "cell_type": "code",
   "execution_count": null,
   "metadata": {},
   "outputs": [],
   "source": [
    "\"\"\" 7. 영화가 제작된 연도를 바탕으로 관객수가 500만 이상인 영화의 수를 연도별로 bar chart 형태로 그리시오\n",
    "\"\"\"\n",
    "\n",
    "year\n"
   ]
  },
  {
   "cell_type": "code",
   "execution_count": 48,
   "metadata": {},
   "outputs": [
    {
     "data": {
      "text/plain": [
       "float"
      ]
     },
     "execution_count": 48,
     "metadata": {},
     "output_type": "execute_result"
    }
   ],
   "source": []
  },
  {
   "cell_type": "code",
   "execution_count": null,
   "metadata": {},
   "outputs": [],
   "source": []
  }
 ],
 "metadata": {
  "kernelspec": {
   "display_name": "Python 3 (ipykernel)",
   "language": "python",
   "name": "python3"
  },
  "language_info": {
   "codemirror_mode": {
    "name": "ipython",
    "version": 3
   },
   "file_extension": ".py",
   "mimetype": "text/x-python",
   "name": "python",
   "nbconvert_exporter": "python",
   "pygments_lexer": "ipython3",
   "version": "3.9.7"
  }
 },
 "nbformat": 4,
 "nbformat_minor": 2
}
