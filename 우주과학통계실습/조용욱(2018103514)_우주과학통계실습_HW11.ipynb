{
 "cells": [
  {
   "cell_type": "code",
   "execution_count": 2,
   "metadata": {},
   "outputs": [],
   "source": [
    "import numpy as np\n",
    "from scipy.stats import linregress\n",
    "import matplotlib.pyplot as plt\n",
    "from scipy import stats\n",
    "import pandas as pd\n"
   ]
  },
  {
   "cell_type": "code",
   "execution_count": 8,
   "metadata": {},
   "outputs": [
    {
     "name": "stdout",
     "output_type": "stream",
     "text": [
      "ydata 평균은 4.363636363636363, 표준편차는 5.722884321622943\n",
      "rvalue is 0.6343518045675641\n"
     ]
    },
    {
     "data": {
      "text/plain": [
       "<matplotlib.legend.Legend at 0x21b8fa13f70>"
      ]
     },
     "execution_count": 8,
     "metadata": {},
     "output_type": "execute_result"
    },
    {
     "data": {
      "image/png": "[encoded data removed]",
      "text/plain": [
       "<Figure size 432x288 with 1 Axes>"
      ]
     },
     "metadata": {
      "needs_background": "light"
     },
     "output_type": "display_data"
    }
   ],
   "source": [
    "ydata = np.array([0.4, 2, 0.4, 9.4, 4.8, 1.5, 2.2, 8.1, 6, 2.9, 5.9, 2.6, 1.8, 2, 3.2, 5.1, 2.2, 0.4, 1.9, 2.6, 2.3, 28.3])\n",
    "xdata = np.array([1,4,6,7,8,10,12,12,15,17,22,23,30,30,30,31,31,31,32,45,46,89])\n",
    "\n",
    "\n",
    "result = linregress(xdata, ydata)\n",
    "A = result.intercept\n",
    "B = result.slope\n",
    "r = result.rvalue\n",
    "average = ydata.mean()\n",
    "std = ydata.std()\n",
    "\n",
    "print(f'ydata 평균은 {average}, 표준편차는 {std}')\n",
    "\n",
    "plt.errorbar(xdata, ydata, yerr = std, marker='s', ls='none')\n",
    "xfit = np.linspace(0,xdata.max(),100)\n",
    "yfit = A+B*xfit\n",
    "avgarr = average*np.ones(len(xfit))\n",
    "plt.plot(xfit, yfit, label = 'fitting')\n",
    "plt.plot(xfit, avgarr, 'b--', label = 'average')\n",
    "plt.xlabel('firearms'); plt.ylabel('deaths')\n",
    "print(f'rvalue is {r}')\n",
    "plt.legend()"
   ]
  },
  {
   "attachments": {},
   "cell_type": "markdown",
   "metadata": {},
   "source": [
    "outlier는 평균의 위치에서 매우 떨어진 값으로 파란 점선에서 벗어난 값을 의미한다. 따라서 총기보유수 89개의 미국이 outlier이다."
   ]
  },
  {
   "cell_type": "code",
   "execution_count": 9,
   "metadata": {},
   "outputs": [
    {
     "name": "stdout",
     "output_type": "stream",
     "text": [
      "outlier를 제외한 ydata 평균은 3.223809523809524, 표준편차는 2.393424476690999\n",
      "without outliers, rvalue is -0.17508777564631017\n"
     ]
    },
    {
     "data": {
      "text/plain": [
       "<matplotlib.legend.Legend at 0x21b8fd04fd0>"
      ]
     },
     "execution_count": 9,
     "metadata": {},
     "output_type": "execute_result"
    },
    {
     "data": {
      "image/png": "[encoded data removed]",
      "text/plain": [
       "<Figure size 432x288 with 1 Axes>"
      ]
     },
     "metadata": {
      "needs_background": "light"
     },
     "output_type": "display_data"
    }
   ],
   "source": [
    "ydata = np.array([0.4, 2, 0.4, 9.4, 4.8, 1.5, 2.2, 8.1, 6, 2.9, 5.9, 2.6, 1.8, 2, 3.2, 5.1, 2.2, 0.4, 1.9, 2.6, 2.3])\n",
    "xdata = np.array([1,4,6,7,8,10,12,12,15,17,22,23,30,30,30,31,31,31,32,45,46])\n",
    "\n",
    "\n",
    "result = linregress(xdata, ydata)\n",
    "A = result.intercept\n",
    "B = result.slope\n",
    "r = result.rvalue\n",
    "average = ydata.mean()\n",
    "std = ydata.std()\n",
    "\n",
    "print(f'outlier를 제외한 ydata 평균은 {average}, 표준편차는 {std}')\n",
    "\n",
    "plt.errorbar(xdata, ydata, yerr = std, marker='s', ls='none')\n",
    "xfit = np.linspace(0,xdata.max(),100)\n",
    "yfit = A+B*xfit\n",
    "avgarr = average*np.ones(len(xfit))\n",
    "plt.plot(xfit, yfit, label = 'fitting')\n",
    "plt.plot(xfit, avgarr, 'b--', label = 'average')\n",
    "plt.xlabel('firearms'); plt.ylabel('deaths')\n",
    "print(f'without outliers, rvalue is {r}')\n",
    "plt.legend()"
   ]
  },
  {
   "attachments": {},
   "cell_type": "markdown",
   "metadata": {},
   "source": [
    "outliers를 제거하면 평균과 표준편차에 큰 변화를 주고 fitting하는 그래프의 기울기에도 큰 영향을 준다. correlation은 매우 작아져 거의 선형성을 나타내지 않는 것으로 나타나졌다. 따라서 outliers는 선형성에 큰 영향을 끼친다."
   ]
  },
  {
   "attachments": {},
   "cell_type": "markdown",
   "metadata": {},
   "source": []
  }
 ],
 "metadata": {
  "kernelspec": {
   "display_name": "Python 3 (ipykernel)",
   "language": "python",
   "name": "python3"
  },
  "language_info": {
   "codemirror_mode": {
    "name": "ipython",
    "version": 3
   },
   "file_extension": ".py",
   "mimetype": "text/x-python",
   "name": "python",
   "nbconvert_exporter": "python",
   "pygments_lexer": "ipython3",
   "version": "3.9.12"
  },
  "orig_nbformat": 4
 },
 "nbformat": 4,
 "nbformat_minor": 2
}
